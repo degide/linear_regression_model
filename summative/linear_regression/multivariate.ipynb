{
 "cells": [
  {
   "cell_type": "markdown",
   "id": "9c2c6798",
   "metadata": {},
   "source": [
    "## Summative - Linear Regression Model With Flutter\n",
    "\n",
    "### Task 1: Linear Regression Task\n",
    "\n"
   ]
  },
  {
   "cell_type": "code",
   "execution_count": null,
   "id": "1f2a45e5",
   "metadata": {},
   "outputs": [],
   "source": [
    "import pandas as pd"
   ]
  }
 ],
 "metadata": {
  "kernelspec": {
   "display_name": ".venv",
   "language": "python",
   "name": "python3"
  },
  "language_info": {
   "codemirror_mode": {
    "name": "ipython",
    "version": 3
   },
   "file_extension": ".py",
   "mimetype": "text/x-python",
   "name": "python",
   "nbconvert_exporter": "python",
   "pygments_lexer": "ipython3",
   "version": "3.9.6"
  }
 },
 "nbformat": 4,
 "nbformat_minor": 5
}
